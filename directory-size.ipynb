{
 "cells": [
  {
   "cell_type": "code",
   "execution_count": 52,
   "metadata": {},
   "outputs": [],
   "source": [
    "import os\n",
    "import sys"
   ]
  },
  {
   "cell_type": "code",
   "execution_count": 48,
   "metadata": {},
   "outputs": [],
   "source": [
    "def getSize(startPath = '.'):\n",
    "    totalSize = 0\n",
    "    for dirpath, dirnames, filenames in os.walk(startPath):\n",
    "        for f in filenames:\n",
    "            fp = os.path.join(dirpath,f)\n",
    "            \n",
    "            if not os.path.islink(fp):\n",
    "                totalSize += os.path.getsize(fp)\n",
    "    return totalSize\n",
    "                \n",
    "            "
   ]
  },
  {
   "cell_type": "code",
   "execution_count": 51,
   "metadata": {},
   "outputs": [
    {
     "name": "stdout",
     "output_type": "stream",
     "text": [
      "Apache   0.024740930646657944 GB\n",
      "Arquivos Comuns   0.0 GB\n",
      "Common Files   0.055328115820884705 GB\n",
      "Dell   0.5544210076332092 GB\n",
      "Docker   3.3346897093579173 GB\n",
      "Eclipse   0.565114893950522 GB\n",
      "Git   0.5875735273584723 GB\n",
      "Hyper-V   0.037647463381290436 GB\n",
      "Intel   0.03631015680730343 GB\n",
      "Intelbras Camera   0.0013308702036738396 GB\n",
      "internet explorer   0.002470584586262703 GB\n",
      "Java   1.0017722472548485 GB\n",
      "JetBrains   1.06315834261477 GB\n",
      "Killer Networking   0.01684979721903801 GB\n",
      "LibreOffice   0.5862115165218711 GB\n",
      "Mozilla Firefox   0.18441132549196482 GB\n",
      "Mozilla Thunderbird   0.3377192998304963 GB\n",
      "MPC-HC   0.045984904281795025 GB\n",
      "MSBuild   2.398807555437088e-05 GB\n",
      "MySQL   0.8282773988321424 GB\n",
      "nodejs   0.04311204236000776 GB\n",
      "NVIDIA Corporation   0.6361006433144212 GB\n",
      "Oracle   0.22265108115971088 GB\n",
      "Paradigma Software   0.15078975353389978 GB\n",
      "PostgreSQL   43.704289329238236 GB\n",
      "PuTTY   0.003681798465549946 GB\n",
      "Reference Assemblies   0.03426567558199167 GB\n",
      "Rockstar Games   0.4572615157812834 GB\n",
      "SonicWall   0.006004346534609795 GB\n",
      "Sublime Text 3   0.033695706166327 GB\n",
      "Uninstall Information   0.0 GB\n",
      "UNP   0.04002070892602205 GB\n",
      "Windows Defender   0.0265030637383461 GB\n",
      "Windows Defender Advanced Threat Protection   0.01700470596551895 GB\n",
      "Windows Mail   0.0005927085876464844 GB\n",
      "Windows Media Player   0.004485026933252811 GB\n",
      "Windows Multimedia Platform   4.4248998165130615e-05 GB\n",
      "windows nt   0.007397495210170746 GB\n",
      "Windows Photo Viewer   0.005751915276050568 GB\n",
      "Windows Portable Devices   4.4248998165130615e-05 GB\n",
      "Windows Security   0.00010279286652803421 GB\n",
      "Windows Sidebar   0.0 GB\n",
      "WindowsApps   0.0 GB\n",
      "WindowsPowerShell   0.002506260760128498 GB\n",
      "WinRAR   0.006654990836977959 GB\n"
     ]
    }
   ],
   "source": [
    "#C:\\Program Files\n",
    "homeDir = '\\\\\\\\?\\\\'+sys.argv[0]\n",
    "print(\"Analisando \"+sys.argv[0])\n",
    "for simpleDir in os.listdir(homeDir):\n",
    "    dir = os.path.join(homeDir,simpleDir)\n",
    "    if os.path.isdir(dir):\n",
    "        sizeInGB =  (((getSize(dir)/1024)/1024)/1024)\n",
    "        print(simpleDir,' ',sizeInGB, 'GB')\n",
    "    \n",
    "# print(getSize(), 'bytes')"
   ]
  }
 ],
 "metadata": {
  "kernelspec": {
   "display_name": "Python 3",
   "language": "python",
   "name": "python3"
  },
  "language_info": {
   "codemirror_mode": {
    "name": "ipython",
    "version": 3
   },
   "file_extension": ".py",
   "mimetype": "text/x-python",
   "name": "python",
   "nbconvert_exporter": "python",
   "pygments_lexer": "ipython3",
   "version": "3.7.3"
  }
 },
 "nbformat": 4,
 "nbformat_minor": 2
}
